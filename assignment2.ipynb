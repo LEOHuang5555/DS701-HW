{
 "cells": [
  {
   "cell_type": "code",
   "execution_count": 1,
   "metadata": {
    "deletable": false,
    "editable": false
   },
   "outputs": [],
   "source": [
    "# Initialize Otter\n",
    "import otter\n",
    "grader = otter.Notebook(\"assignment2.ipynb\")"
   ]
  },
  {
   "cell_type": "markdown",
   "metadata": {},
   "source": [
    "# Linear Algebra Refresher and an Introduction to NumPy\n",
    "\n",
    "This assignment aims to refresh your understanding of key linear algebra concepts that are fundamental to data science and machine learning, with a focus on practical implementation using NumPy. NumPy (Numerical Python) is a foundational library for scientific computing in Python and is another vital tool we'll be using in this class. It provides support for large, multi-dimensional arrays and matrices, along with a vast collection of high-level mathematical functions to operate on these arrays efficiently. \n",
    "\n",
    "You'll find the [Numpy documentation](https://numpy.org/doc/stable/) useful in this assignment.\n",
    "\n",
    "You should write code in the cells marked with \"YOUR CODE HERE\" or \"...\""
   ]
  },
  {
   "cell_type": "code",
   "execution_count": 2,
   "metadata": {},
   "outputs": [],
   "source": [
    "import numpy as np\n",
    "import matplotlib.pyplot as plt\n",
    "import pandas as pd\n",
    "\n",
    "np.random.seed(701)"
   ]
  },
  {
   "cell_type": "markdown",
   "metadata": {},
   "source": [
    "## Part 1 - Basics"
   ]
  },
  {
   "cell_type": "markdown",
   "metadata": {},
   "source": [
    "You can turn a Python array, such as a list, of any dimensions into a Numpy array using `np.array()`."
   ]
  },
  {
   "cell_type": "code",
   "execution_count": 3,
   "metadata": {},
   "outputs": [
    {
     "name": "stdout",
     "output_type": "stream",
     "text": [
      "[1, 2, 3, 4, 5]\n",
      "[1 2 3 4 5]\n",
      "[[1, 2, 3], [4, 5, 6]]\n",
      "[[1 2 3]\n",
      " [4 5 6]]\n"
     ]
    }
   ],
   "source": [
    "py_array = [1, 2, 3, 4, 5]\n",
    "np_array = np.array(py_array)\n",
    "\n",
    "py_array2 = [[1, 2, 3], [4, 5, 6]]\n",
    "np_array2 = np.array(py_array2)\n",
    "\n",
    "print(py_array)\n",
    "print(np_array)\n",
    "print(py_array2)\n",
    "print(np_array2)"
   ]
  },
  {
   "cell_type": "markdown",
   "metadata": {},
   "source": [
    "#### **Question 1:** "
   ]
  },
  {
   "cell_type": "markdown",
   "metadata": {},
   "source": [
    "A very common operation is checking the shape of an array. You can check the shape of a numpy array using the `.shape` attribute. Print the shapes of the two numpy arrays we created above in the next cell."
   ]
  },
  {
   "cell_type": "markdown",
   "metadata": {
    "deletable": false,
    "editable": false
   },
   "source": [
    "<!-- BEGIN QUESTION -->\n",
    "\n"
   ]
  },
  {
   "cell_type": "code",
   "execution_count": 4,
   "metadata": {
    "deletable": false,
    "editable": false
   },
   "outputs": [
    {
     "name": "stdout",
     "output_type": "stream",
     "text": [
      "(5,)\n",
      "(2, 3)\n"
     ]
    }
   ],
   "source": [
    "# YOUR CODE HERE\n",
    "print(np_array.shape)\n",
    "print(np_array2.shape)"
   ]
  },
  {
   "cell_type": "code",
   "execution_count": 5,
   "metadata": {
    "tags": []
   },
   "outputs": [
    {
     "data": {
      "text/plain": [
       "Ellipsis"
      ]
     },
     "execution_count": 5,
     "metadata": {},
     "output_type": "execute_result"
    }
   ],
   "source": [
    "..."
   ]
  },
  {
   "cell_type": "markdown",
   "metadata": {
    "deletable": false,
    "editable": false
   },
   "source": [
    "<!-- END QUESTION -->\n",
    "\n",
    "#### **Question 2:**"
   ]
  },
  {
   "cell_type": "markdown",
   "metadata": {
    "deletable": false,
    "editable": false
   },
   "source": [
    "Now, use the [numpy random module](https://numpy.org/doc/stable/reference/random/index.html) to create a 3x3 array of random integers from 1 to 10. "
   ]
  },
  {
   "cell_type": "code",
   "execution_count": 6,
   "metadata": {
    "tags": []
   },
   "outputs": [
    {
     "name": "stdout",
     "output_type": "stream",
     "text": [
      "3x3 array of random numbers from 1 to 10:\n",
      "[[7 5 5]\n",
      " [6 7 9]\n",
      " [6 3 8]]\n"
     ]
    }
   ],
   "source": [
    "rng = np.random.default_rng()\n",
    "random_array = np.random.randint(1, 10, (3,3))\n",
    "\n",
    "print(\"3x3 array of random numbers from 1 to 10:\")\n",
    "print(random_array)"
   ]
  },
  {
   "cell_type": "code",
   "execution_count": 7,
   "metadata": {
    "deletable": false,
    "editable": false
   },
   "outputs": [
    {
     "data": {
      "text/html": [
       "<p><strong><pre style='display: inline;'>q2</pre></strong> passed! 🌈</p>"
      ],
      "text/plain": [
       "q2 results: All test cases passed!"
      ]
     },
     "execution_count": 7,
     "metadata": {},
     "output_type": "execute_result"
    }
   ],
   "source": [
    "grader.check(\"q2\")"
   ]
  },
  {
   "cell_type": "markdown",
   "metadata": {},
   "source": [
    "You can perform element wise addition, subtraction, multiplication, and division on two arrays. "
   ]
  },
  {
   "cell_type": "code",
   "execution_count": 8,
   "metadata": {},
   "outputs": [
    {
     "name": "stdout",
     "output_type": "stream",
     "text": [
      "Element wise addition: [5 7 9]\n",
      "Element wise subtraction: [-3 -3 -3]\n",
      "Element wise multiplication: [ 4 10 18]\n",
      "Element wise division: [0.25 0.4  0.5 ]\n"
     ]
    }
   ],
   "source": [
    "a1 = np.array([1, 2, 3])\n",
    "a2 = np.array([4, 5, 6])\n",
    "\n",
    "print(\"Element wise addition:\", a1 + a2)\n",
    "print(\"Element wise subtraction:\", a1 - a2)\n",
    "print(\"Element wise multiplication:\", a1 * a2)\n",
    "print(\"Element wise division:\", a1 / a2)"
   ]
  },
  {
   "cell_type": "markdown",
   "metadata": {},
   "source": [
    "#### **Question 3:** "
   ]
  },
  {
   "cell_type": "markdown",
   "metadata": {
    "deletable": false,
    "editable": false
   },
   "source": [
    "Use the [`.dot` method](https://numpy.org/doc/1.21/reference/generated/numpy.ndarray.dot.html) to compute the dot product of vectors $a_1$ and $a_2$."
   ]
  },
  {
   "cell_type": "code",
   "execution_count": 9,
   "metadata": {
    "tags": []
   },
   "outputs": [],
   "source": [
    "dot_product = np.dot(a1, a2)"
   ]
  },
  {
   "cell_type": "code",
   "execution_count": 10,
   "metadata": {
    "deletable": false,
    "editable": false
   },
   "outputs": [
    {
     "data": {
      "text/html": [
       "<p><strong><pre style='display: inline;'>q3</pre></strong> passed! ✨</p>"
      ],
      "text/plain": [
       "q3 results: All test cases passed!"
      ]
     },
     "execution_count": 10,
     "metadata": {},
     "output_type": "execute_result"
    }
   ],
   "source": [
    "grader.check(\"q3\")"
   ]
  },
  {
   "cell_type": "markdown",
   "metadata": {},
   "source": [
    "#### **Question 4:** "
   ]
  },
  {
   "cell_type": "markdown",
   "metadata": {
    "deletable": false,
    "editable": false
   },
   "source": [
    "Compute the matrix product of the two matrices defined below, $M_1$ and $M_2$. You can use [`np.matmul`](https://numpy.org/doc/stable/reference/generated/numpy.matmul.html) or its shorthand `@`. "
   ]
  },
  {
   "cell_type": "code",
   "execution_count": 11,
   "metadata": {
    "tags": []
   },
   "outputs": [
    {
     "name": "stdout",
     "output_type": "stream",
     "text": [
      "Matrix product of M1 and M2:\n",
      "[[19 22]\n",
      " [43 50]]\n"
     ]
    }
   ],
   "source": [
    "M1 = np.array([[1, 2], \n",
    "               [3, 4]])\n",
    "\n",
    "M2 = np.array([[5, 6], \n",
    "               [7, 8]])\n",
    "\n",
    "product = M1 @ M2\n",
    "\n",
    "print(\"Matrix product of M1 and M2:\")\n",
    "print(product)"
   ]
  },
  {
   "cell_type": "code",
   "execution_count": 12,
   "metadata": {
    "deletable": false,
    "editable": false
   },
   "outputs": [
    {
     "data": {
      "text/html": [
       "<p><strong><pre style='display: inline;'>q4</pre></strong> passed! 🚀</p>"
      ],
      "text/plain": [
       "q4 results: All test cases passed!"
      ]
     },
     "execution_count": 12,
     "metadata": {},
     "output_type": "execute_result"
    }
   ],
   "source": [
    "grader.check(\"q4\")"
   ]
  },
  {
   "cell_type": "markdown",
   "metadata": {},
   "source": [
    "## Broadcasting"
   ]
  },
  {
   "cell_type": "markdown",
   "metadata": {},
   "source": [
    "A key strength of Numpy is [broadcasting](https://numpy.org/doc/stable/user/basics.broadcasting.html) - treating arrays of different shapes during arithmetic operations. Let's play with it here. "
   ]
  },
  {
   "cell_type": "code",
   "execution_count": 13,
   "metadata": {},
   "outputs": [
    {
     "name": "stdout",
     "output_type": "stream",
     "text": [
      "Broadcasting a + b: [3. 4. 5.]\n",
      "Broadcasting a - b: [-1.  0.  1.]\n",
      "Broadcasting a * b: [2. 4. 6.]\n",
      "Broadcasting a / b: [0.5 1.  1.5]\n"
     ]
    }
   ],
   "source": [
    "# EXAMPLE\n",
    "a = np.array([1.0, 2.0, 3.0])\n",
    "b = 2.0\n",
    "\n",
    "print(\"Broadcasting a + b:\", a + b)\n",
    "print(\"Broadcasting a - b:\", a - b)\n",
    "print(\"Broadcasting a * b:\", a * b)\n",
    "print(\"Broadcasting a / b:\", a / b)\n"
   ]
  },
  {
   "cell_type": "markdown",
   "metadata": {
    "deletable": false,
    "editable": false
   },
   "source": [
    "#### **Question 5:** "
   ]
  },
  {
   "cell_type": "markdown",
   "metadata": {
    "deletable": false,
    "editable": false
   },
   "source": [
    "For this exercise, do the following:\n",
    "\n",
    "1. Create a 2D array called $a_1$ A with shape (3, 4) containing random integers between 1 and 10.\n",
    "   \n",
    "2. Create a 1D array called $b_1$ with shape (4,) containing random integers between 1 and 5.\n",
    "   \n",
    "3. Use broadcasting to add b to each row of A.\n",
    "   \n",
    "4. Print the original arrays and the result. "
   ]
  },
  {
   "cell_type": "code",
   "execution_count": 14,
   "metadata": {
    "tags": []
   },
   "outputs": [
    {
     "name": "stdout",
     "output_type": "stream",
     "text": [
      "A1:\n",
      "[[1 9 7 9]\n",
      " [3 8 1 9]\n",
      " [5 9 3 3]]\n",
      "B1:\n",
      "[1 1 1 2]\n",
      "Result:\n",
      "[[ 2 10  8 11]\n",
      " [ 4  9  2 11]\n",
      " [ 6 10  4  5]]\n"
     ]
    }
   ],
   "source": [
    "rng = np.random.default_rng(701)\n",
    "\n",
    "a1 = rng.integers(1, 10, (3, 4))\n",
    "b1 = rng.integers(1, 5, (4,))\n",
    "\n",
    "print(\"A1:\")\n",
    "print(a1)\n",
    "print(\"B1:\")\n",
    "print(b1)\n",
    "\n",
    "result = a1 + b1\n",
    "\n",
    "print(\"Result:\")\n",
    "print(result)"
   ]
  },
  {
   "cell_type": "code",
   "execution_count": 15,
   "metadata": {
    "deletable": false,
    "editable": false
   },
   "outputs": [
    {
     "data": {
      "text/html": [
       "<p><strong><pre style='display: inline;'>q5</pre></strong> passed! 🌟</p>"
      ],
      "text/plain": [
       "q5 results: All test cases passed!"
      ]
     },
     "execution_count": 15,
     "metadata": {},
     "output_type": "execute_result"
    }
   ],
   "source": [
    "grader.check(\"q5\")"
   ]
  },
  {
   "cell_type": "markdown",
   "metadata": {
    "deletable": false,
    "editable": false
   },
   "source": [
    "#### **Question 6:** "
   ]
  },
  {
   "cell_type": "markdown",
   "metadata": {
    "deletable": false,
    "editable": false
   },
   "source": [
    "Let's demonstrate broadcasting with a concrete example. We'll create a 100x100x3 array that will represent an RGB image (red, green, blue). Specifically, every row and column contains an array of 3 values - level of red (R), level of green (G) and level of blue (B). Every one of those values ('levels') is in the range 0 (nothing) to 255 (pure white)."
   ]
  },
  {
   "cell_type": "code",
   "execution_count": 16,
   "metadata": {
    "deletable": false,
    "editable": false
   },
   "outputs": [
    {
     "name": "stdout",
     "output_type": "stream",
     "text": [
      "Here is a random 100x100x3 image:\n"
     ]
    },
    {
     "data": {
      "image/png": "[encoded data removed]",
      "text/plain": [
       "<Figure size 640x480 with 1 Axes>"
      ]
     },
     "metadata": {},
     "output_type": "display_data"
    }
   ],
   "source": [
    "np.random.seed(701)\n",
    "\n",
    "random_image = np.random.randint(0, 255, size=(100, 100, 3))\n",
    "\n",
    "print(\"Here is a random 100x100x3 image:\")\n",
    "plt.imshow(random_image)\n",
    "plt.axis('off')\n",
    "plt.show()"
   ]
  },
  {
   "cell_type": "code",
   "execution_count": 17,
   "metadata": {
    "deletable": false,
    "editable": false
   },
   "outputs": [
    {
     "name": "stdout",
     "output_type": "stream",
     "text": [
      "Level of red (R), level of green (G) and level of blue (B) at the top left corner of the image:\n",
      "[230  84 212]\n"
     ]
    }
   ],
   "source": [
    "print(\"Level of red (R), level of green (G) and level of blue (B) at the top left corner of the image:\")\n",
    "print(random_image[0][0])"
   ]
  },
  {
   "cell_type": "markdown",
   "metadata": {
    "deletable": false,
    "editable": false
   },
   "source": [
    "We can use broadcasting to alter the colors of the image. For this exercise, create a 1D array of length 3 to represent brightness adjustments. For example, [1.1, 0.9, 1.2] to brighten red, darken green, and brighten blue (NOTE: Do NOT use numpy.random for this, create it yourself.)\n",
    "\n",
    "Then, use broadcasting to apply these adjustments to the entire image. \n",
    "\n",
    "You might need to clip the resulting values to ensure they stay within the valid range (0-255)."
   ]
  },
  {
   "cell_type": "code",
   "execution_count": 18,
   "metadata": {
    "tags": []
   },
   "outputs": [
    {
     "name": "stderr",
     "output_type": "stream",
     "text": [
      "Clipping input data to the valid range for imshow with RGB data ([0..1] for floats or [0..255] for integers). Got range [0..381].\n"
     ]
    },
    {
     "data": {
      "image/png": "[encoded data removed]",
      "text/plain": [
       "<Figure size 640x480 with 1 Axes>"
      ]
     },
     "metadata": {},
     "output_type": "display_data"
    }
   ],
   "source": [
    "from copy import deepcopy\n",
    "\n",
    "changed_image = deepcopy(random_image)\n",
    "\n",
    "brightness_adjustments = np.array([1.5, 0.2, 1.1])\n",
    "\n",
    "changed_image = random_image*brightness_adjustments\n",
    "# (changed_image/255)*(brightness_adjustments/brightness_adjustments.max())*255\n",
    "\n",
    "changed_image = changed_image.astype(int)\n",
    "plt.imshow(changed_image)\n",
    "plt.axis('off')\n",
    "plt.show()"
   ]
  },
  {
   "cell_type": "markdown",
   "metadata": {
    "deletable": false,
    "editable": false
   },
   "source": [
    "Feel free to play around with the brightness adjustments! "
   ]
  },
  {
   "cell_type": "code",
   "execution_count": 19,
   "metadata": {
    "deletable": false,
    "editable": false
   },
   "outputs": [
    {
     "data": {
      "text/html": [
       "<p><strong><pre style='display: inline;'>q6</pre></strong> passed! 🍀</p>"
      ],
      "text/plain": [
       "q6 results: All test cases passed!"
      ]
     },
     "execution_count": 19,
     "metadata": {},
     "output_type": "execute_result"
    }
   ],
   "source": [
    "grader.check(\"q6\")"
   ]
  },
  {
   "cell_type": "markdown",
   "metadata": {},
   "source": [
    "## Part 2 - Linear Algebra with Numpy\n",
    "\n",
    "For this part, you should find the appropriate functions and methods from the documentation or online. "
   ]
  },
  {
   "cell_type": "markdown",
   "metadata": {
    "deletable": false,
    "editable": false
   },
   "source": [
    "#### **Question 7:** "
   ]
  },
  {
   "cell_type": "markdown",
   "metadata": {
    "deletable": false,
    "editable": false
   },
   "source": [
    "Calculate the Euclidean norm (magnitude) of the vector $v_1$."
   ]
  },
  {
   "cell_type": "code",
   "execution_count": 20,
   "metadata": {
    "tags": []
   },
   "outputs": [
    {
     "name": "stdout",
     "output_type": "stream",
     "text": [
      "Vector v1: [6 4 4 5 6 8 5 9 2 7]\n",
      "Euclidean norm of v1: 18.76166303929372\n",
      "18.76166303929372\n"
     ]
    }
   ],
   "source": [
    "np.random.seed(701)\n",
    "\n",
    "v1 = np.random.randint(0, 10, size=10)\n",
    "print(\"Vector v1:\", v1)\n",
    "\n",
    "magnitude = np.linalg.norm(v1)\n",
    "\n",
    "print(\"Euclidean norm of v1:\", magnitude)\n",
    "print(magnitude)"
   ]
  },
  {
   "cell_type": "code",
   "execution_count": 21,
   "metadata": {
    "deletable": false,
    "editable": false
   },
   "outputs": [
    {
     "data": {
      "text/html": [
       "<p><strong><pre style='display: inline;'>q7</pre></strong> passed! 🎉</p>"
      ],
      "text/plain": [
       "q7 results: All test cases passed!"
      ]
     },
     "execution_count": 21,
     "metadata": {},
     "output_type": "execute_result"
    }
   ],
   "source": [
    "grader.check(\"q7\")"
   ]
  },
  {
   "cell_type": "markdown",
   "metadata": {
    "deletable": false,
    "editable": false
   },
   "source": [
    "#### **Question 8:** Matrix Decompositions"
   ]
  },
  {
   "cell_type": "markdown",
   "metadata": {
    "deletable": false,
    "editable": false
   },
   "source": [
    "Use Numpy to get the eigenvalues and eigenvectors of a given matrix $M_3$. "
   ]
  },
  {
   "cell_type": "code",
   "execution_count": 22,
   "metadata": {
    "tags": []
   },
   "outputs": [
    {
     "name": "stdout",
     "output_type": "stream",
     "text": [
      "Eigenvalues of M3: [ 9.47493719e+01 -4.74937186e+00 -8.79571373e-16]\n",
      "Eigenvectors of M3: [[-0.28263801 -0.77528584  0.40824829]\n",
      " [-0.5382937  -0.07401341 -0.81649658]\n",
      " [-0.7939494   0.62725902  0.40824829]]\n"
     ]
    }
   ],
   "source": [
    "M3 = np.array([[10, 15, 20],\n",
    "               [25, 30, 35],\n",
    "               [40, 45, 50]])\n",
    "\n",
    "eigenvalues, eigenvectors = np.linalg.eig(M3)\n",
    "\n",
    "print(\"Eigenvalues of M3:\", eigenvalues)\n",
    "print(\"Eigenvectors of M3:\", eigenvectors)"
   ]
  },
  {
   "cell_type": "code",
   "execution_count": 23,
   "metadata": {},
   "outputs": [
    {
     "data": {
      "text/plain": [
       "array([[-2.67797736e+01,  3.68212076e+00,  4.44089210e-16],\n",
       "       [-5.10029902e+01,  3.51517216e-01,  6.10622664e-15],\n",
       "       [-7.52262068e+01, -2.97908633e+00,  8.21565038e-15]])"
      ]
     },
     "execution_count": 23,
     "metadata": {},
     "output_type": "execute_result"
    }
   ],
   "source": [
    "M3@eigenvectors"
   ]
  },
  {
   "cell_type": "markdown",
   "metadata": {
    "deletable": false,
    "editable": false
   },
   "source": [
    "Verify that $Av = λv$ for each eigenpair $(λ, v)$ you found. "
   ]
  },
  {
   "cell_type": "markdown",
   "metadata": {
    "deletable": false,
    "editable": false
   },
   "source": [
    "Reconstruct the matrix using the eigendecomposition that we [saw in class](https://tools4ds.github.io/DS701-Course-Notes/04-Linear-Algebra-Refresher.html#matrix-decompositions-1). \n"
   ]
  },
  {
   "cell_type": "code",
   "execution_count": 24,
   "metadata": {
    "tags": []
   },
   "outputs": [
    {
     "name": "stdout",
     "output_type": "stream",
     "text": [
      "Reconstructed M3: [[ 1.32915620e+01 -2.17128192e+00  2.45267132e-16]\n",
      " [ 4.55931551e+01 -7.55672289e-02  3.33216622e-16]\n",
      " [-3.07109703e+01  2.43241380e+00 -1.46595229e-16]]\n"
     ]
    }
   ],
   "source": [
    "M3_reconstructed = eigenvectors*eigenvalues*np.linalg.inv(eigenvectors)\n",
    "\n",
    "print(\"Reconstructed M3:\", M3_reconstructed)"
   ]
  },
  {
   "cell_type": "markdown",
   "metadata": {
    "deletable": false,
    "editable": false
   },
   "source": [
    "Decompose and reconstruct the matrix in the same manner for the Singular Value Decomposition below. "
   ]
  },
  {
   "cell_type": "markdown",
   "metadata": {
    "deletable": false,
    "editable": false
   },
   "source": [
    "### Singular Value Decomposition"
   ]
  },
  {
   "cell_type": "code",
   "execution_count": 25,
   "metadata": {
    "tags": []
   },
   "outputs": [
    {
     "name": "stdout",
     "output_type": "stream",
     "text": [
      "Singular values of M3: [9.78716491e+01 4.59785856e+00 3.08036704e-17]\n",
      "U matrix of M3: [[-0.27205092  0.87139063  0.40824829]\n",
      " [-0.53571285  0.21527907 -0.81649658]\n",
      " [-0.79937478 -0.4408325   0.40824829]]\n",
      "V matrix of M3: [[-0.49134067 -0.57344507 -0.65554946]\n",
      " [-0.76936186 -0.06703796  0.63528595]\n",
      " [-0.40824829  0.81649658 -0.40824829]]\n",
      "Reconstructed M3: [[ 1.30824721e+01 -3.08247206e+00 -5.13394507e-18]\n",
      " [ 3.00663557e+01 -6.63556938e-02 -2.05357803e-17]\n",
      " [ 5.12876519e+01 -1.28765186e+00 -5.13394507e-18]]\n"
     ]
    }
   ],
   "source": [
    "U, s, V = np.linalg.svd(M3)\n",
    "\n",
    "print(\"Singular values of M3:\", s)\n",
    "print(\"U matrix of M3:\", U)\n",
    "print(\"V matrix of M3:\", V)\n",
    "\n",
    "M3_reconstructed = U*s*V.T\n",
    "print(\"Reconstructed M3:\", M3_reconstructed)"
   ]
  },
  {
   "cell_type": "code",
   "execution_count": 26,
   "metadata": {
    "deletable": false,
    "editable": false
   },
   "outputs": [
    {
     "data": {
      "text/html": [
       "<p><strong><pre style='display: inline;'>q8</pre></strong> passed! 🌈</p>"
      ],
      "text/plain": [
       "q8 results: All test cases passed!"
      ]
     },
     "execution_count": 26,
     "metadata": {},
     "output_type": "execute_result"
    }
   ],
   "source": [
    "grader.check(\"q8\")"
   ]
  },
  {
   "cell_type": "markdown",
   "metadata": {
    "deletable": false,
    "editable": false
   },
   "source": [
    "## Submission\n",
    "\n",
    "Make sure you have run all cells in your notebook in order before running the cell below, so that all images/graphs appear in the output. The cell below will generate a zip file for you to submit. **Please save before exporting!**\n",
    "\n",
    "These are some submission instructions."
   ]
  },
  {
   "cell_type": "code",
   "execution_count": 37,
   "metadata": {
    "deletable": false,
    "editable": false
   },
   "outputs": [
    {
     "name": "stdout",
     "output_type": "stream",
     "text": [
      "Running your submission against local test cases...\n",
      "\n",
      "\n",
      "Your submission received the following results when run against available test cases:\n",
      "\n",
      "    q2 results: All test cases passed!\n",
      "\n",
      "    q3 results: All test cases passed!\n",
      "\n",
      "    q4 results: All test cases passed!\n",
      "\n",
      "    q5 results: All test cases passed!\n",
      "\n",
      "    q6 results: All test cases passed!\n",
      "\n",
      "    q7 results: All test cases passed!\n",
      "\n",
      "    q8 results: All test cases passed!\n"
     ]
    },
    {
     "data": {
      "text/html": [
       "\n",
       "                    <p>\n",
       "                        Your submission has been exported. Click\n",
       "                        <a href=\"assignment2_2024_09_22T18_05_55_758235.zip\" download=\"assignment2_2024_09_22T18_05_55_758235.zip\" target=\"_blank\">here</a> to download\n",
       "                        the zip file.\n",
       "                    </p>\n",
       "                "
      ],
      "text/plain": [
       "<IPython.core.display.HTML object>"
      ]
     },
     "metadata": {},
     "output_type": "display_data"
    }
   ],
   "source": [
    "# Save your notebook first, then run this cell to export your submission.\n",
    "grader.export(run_tests=True)"
   ]
  }
 ],
 "metadata": {
  "kernelspec": {
   "display_name": "Python 3 (ipykernel)",
   "language": "python",
   "name": "python3"
  },
  "language_info": {
   "codemirror_mode": {
    "name": "ipython",
    "version": 3
   },
   "file_extension": ".py",
   "mimetype": "text/x-python",
   "name": "python",
   "nbconvert_exporter": "python",
   "pygments_lexer": "ipython3",
   "version": "3.10.14"
  },
  "otter": {
   "OK_FORMAT": true,
   "tests": {
    "q2": {
     "name": "q2",
     "points": 1,
     "suites": [
      {
       "cases": [
        {
         "code": ">>> def test_q2(random_array):\n...     assert random_array.shape == (3, 3), f'Expected shape (3, 3), but got {random_array.shape}'\n...     assert np.all(random_array >= 1) and np.all(random_array <= 10), f'Expected all elements to be in the range 1 to 10, but found elements outside this range.'\n>>> test_q2(random_array)\n",
         "hidden": false,
         "locked": false
        }
       ],
       "scored": true,
       "setup": "",
       "teardown": "",
       "type": "doctest"
      }
     ]
    },
    "q3": {
     "name": "q3",
     "points": null,
     "suites": [
      {
       "cases": [
        {
         "code": ">>> def test_q3(a1, a2):\n...     assert np.allclose(dot_product, 32), f'Expected dot product {32}, but got {dot_product}'\n>>> test_q3(a1, a2)\n",
         "hidden": false,
         "locked": false
        }
       ],
       "scored": true,
       "setup": "",
       "teardown": "",
       "type": "doctest"
      }
     ]
    },
    "q4": {
     "name": "q4",
     "points": null,
     "suites": [
      {
       "cases": [
        {
         "code": ">>> def test_q4(M1, M2):\n...     assert np.allclose(product, [[19, 22], [43, 50]]), f'Expected matrix product [[19, 22], [43, 50]], but got {product}'\n>>> test_q4(M1, M2)\n",
         "hidden": false,
         "locked": false
        }
       ],
       "scored": true,
       "setup": "",
       "teardown": "",
       "type": "doctest"
      }
     ]
    },
    "q5": {
     "name": "q5",
     "points": 3,
     "suites": [
      {
       "cases": [
        {
         "code": ">>> def test_q5(a1, b1, result):\n...     assert np.allclose(result, [[2, 10, 8, 11], [4, 9, 2, 11], [6, 10, 4, 5]]), f'Expected result [[ 2, 10,  8, 11], [ 4,  9,  2, 11], [ 6, 10,  4,  5]], but got {result}'\n>>> test_q5(a1, b1, result)\n",
         "hidden": false,
         "locked": false
        }
       ],
       "scored": true,
       "setup": "",
       "teardown": "",
       "type": "doctest"
      }
     ]
    },
    "q6": {
     "name": "q6",
     "points": 2,
     "suites": [
      {
       "cases": [
        {
         "code": ">>> def test_q6(random_image, brightness_adjustments, changed_image):\n...     assert np.allclose(changed_image, random_image * brightness_adjustments, atol=1), f'Expected changed image {random_image * brightness_adjustments}, but got {changed_image}'\n>>> test_q6(random_image, brightness_adjustments, changed_image)\n",
         "hidden": false,
         "locked": false
        }
       ],
       "scored": true,
       "setup": "",
       "teardown": "",
       "type": "doctest"
      }
     ]
    },
    "q7": {
     "name": "q7",
     "points": null,
     "suites": [
      {
       "cases": [
        {
         "code": ">>> def test_q7(v1, magnitude):\n...     assert np.allclose(magnitude, 18.76166303929372), f'Expected magnitude {18.76166303929372}, but got {magnitude}'\n>>> test_q7(v1, magnitude)\n",
         "hidden": false,
         "locked": false
        }
       ],
       "scored": true,
       "setup": "",
       "teardown": "",
       "type": "doctest"
      }
     ]
    },
    "q8": {
     "name": "q8",
     "points": 4,
     "suites": [
      {
       "cases": [
        {
         "code": ">>> def test_eigenvalues(M3, eigenvalues):\n...     assert np.allclose(eigenvalues, [94.7493719, -4.74937186, -8.79571373e-16]), f'Expected eigenvalues {[94.7493719, -4.74937186, -8.79571373e-16]}, but got {eigenvalues}'\n>>> \n>>> def test_eigenvectors(M3, eigenvectors):\n...     assert np.allclose(eigenvectors, [[-0.28263801, -0.77528584, 0.40824829], [-0.5382937, -0.07401341, -0.81649658], [-0.7939494, 0.62725902, 0.40824829]]), f'Expected eigenvectors {[[-0.28263801, -0.77528584, 0.40824829], [-0.5382937, -0.07401341, -0.81649658], [-0.7939494, 0.62725902, 0.40824829]]}, but got {eigenvectors}'\n>>> \n>>> def test_eigen_reconstruction(M3, eigenvalues, eigenvectors):\n...     a = [[-0.49632839, -0.58968243, -0.68303647], [-0.89393102, -0.21497447, 0.46398207], [0.40824829, -0.81649658, 0.40824829]]\n...     b = [[94.7493719, 0.0, 0.0], [0.0, -4.74937186, 0.0], [0.0, 0.0, -8.79571373e-16]]\n...     M3_reconstructed = eigenvectors @ b @ a\n...     assert np.allclose(M3_reconstructed, M3), f'Eigen reconstruction failed'\n>>> \n>>> def test_svd(M3):\n...     assert np.allclose(M3, U @ np.diag(s) @ V), 'SVD reconstruction failed'\n>>> test_eigenvalues(M3, eigenvalues)\n>>> test_eigenvectors(M3, eigenvectors)\n>>> test_eigen_reconstruction(M3, eigenvalues, eigenvectors)\n>>> test_svd(M3)\n",
         "hidden": false,
         "locked": false
        }
       ],
       "scored": true,
       "setup": "",
       "teardown": "",
       "type": "doctest"
      }
     ]
    }
   }
  }
 },
 "nbformat": 4,
 "nbformat_minor": 2
}
